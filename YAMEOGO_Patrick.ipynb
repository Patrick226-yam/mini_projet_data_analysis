{
 "cells": [
  {
   "cell_type": "code",
   "execution_count": 16,
   "id": "df5e23d5-0ada-4aa9-8dfc-62b0a565bec8",
   "metadata": {},
   "outputs": [],
   "source": [
    "                                          ################################################\n",
    "                                          #    MINI-PROJET  Data Processing - Data Viz   #\n",
    "                                          ################################################"
   ]
  },
  {
   "cell_type": "code",
   "execution_count": 17,
   "id": "beacd919-d07c-4a77-85f3-8e3fe9081629",
   "metadata": {},
   "outputs": [],
   "source": [
    "# ===============================\n",
    "# Importer les packages nécessaires\n",
    "# ==============================="
   ]
  },
  {
   "cell_type": "code",
   "execution_count": 18,
   "id": "b07db8ed-356a-462d-8655-981bf4f5530b",
   "metadata": {},
   "outputs": [],
   "source": [
    "import pandas as pd\n",
    "import requests, zipfile, io\n",
    "import os"
   ]
  },
  {
   "cell_type": "code",
   "execution_count": 19,
   "id": "1d5f9e58-3152-4bda-99df-7d17b293fc1d",
   "metadata": {},
   "outputs": [],
   "source": [
    "# =====================================\n",
    "# 1 & 2- Télécharger et extraire BF.zip\n",
    "# ====================================="
   ]
  },
  {
   "cell_type": "code",
   "execution_count": 20,
   "id": "4a842647-0060-412a-8281-7f3bf8f54f53",
   "metadata": {},
   "outputs": [
    {
     "name": "stdout",
     "output_type": "stream",
     "text": [
      "Fichiers extraits : ['readme.txt', 'BF.txt']\n"
     ]
    }
   ],
   "source": [
    "# URL du fichier GeoNames pour le Burkina Faso\n",
    "url = \"https://download.geonames.org/export/dump/BF.zip\"\n",
    "\n",
    "# Télécharger le fichier\n",
    "r = requests.get(url)\n",
    "z = zipfile.ZipFile(io.BytesIO(r.content))\n",
    "\n",
    "# Extraire dans un dossier\n",
    "z.extractall(\"data\") \n",
    "print(\"Fichiers extraits :\", z.namelist())"
   ]
  },
  {
   "cell_type": "code",
   "execution_count": 21,
   "id": "1c24f826-ba0c-4684-8519-c77d03c5b231",
   "metadata": {},
   "outputs": [],
   "source": [
    "# ===============================\n",
    "# 3- Prétraitement du fichier BF.txt\n",
    "# ==============================="
   ]
  },
  {
   "cell_type": "code",
   "execution_count": 22,
   "id": "380d17b6-5082-4d81-99c6-d121f9c9f21c",
   "metadata": {},
   "outputs": [
    {
     "name": "stdout",
     "output_type": "stream",
     "text": [
      "CSV burkina_location.csv créé avec succès !\n"
     ]
    }
   ],
   "source": [
    "df = pd.read_csv(\n",
    "    \"data/BF.txt\",\n",
    "    sep='\\t',\n",
    "    header=None,\n",
    "    dtype=str\n",
    ")\n",
    "\n",
    "df = df[[0, 1, 4, 5]]\n",
    "df.columns = ['ID', 'location_name', 'lat', 'long']\n",
    "df['lat'] = df['lat'].astype(float)\n",
    "df['long'] = df['long'].astype(float)\n",
    "\n",
    "# Sauvegarde du CSV\n",
    "df.to_csv(\"data/burkina_location.csv\", index=False)\n",
    "print(\"CSV burkina_location.csv créé avec succès !\")"
   ]
  },
  {
   "cell_type": "code",
   "execution_count": 23,
   "id": "3d97a6b4-0454-447b-ac82-7c0f756147b4",
   "metadata": {},
   "outputs": [],
   "source": [
    "# ===============================\n",
    "# 4- Extractions et filtres\n",
    "# ===============================\n"
   ]
  },
  {
   "cell_type": "code",
   "execution_count": 24,
   "id": "5a58c90a-2048-4473-94db-b55dc89bc246",
   "metadata": {},
   "outputs": [
    {
     "name": "stdout",
     "output_type": "stream",
     "text": [
      "Fichier gounghin.csv créé avec succès !\n",
      "Fichier A_to_P.csv créé avec succès !\n",
      "Latitude minimale : 5.21609\n",
      "Lieux correspondants : ['Komoé']\n",
      "Longitude minimale : -5.65968\n",
      "Lieux correspondants : ['Banifing']\n",
      "Nombre de lieux correspondant aux critères : 9466\n"
     ]
    }
   ],
   "source": [
    "# 4.1 Lieux contenant \"gounghin\"\n",
    "gounghin_df = df[df['location_name'].str.contains('gounghin', case=False)]\n",
    "gounghin_df.to_csv(\"gounghin.csv\", index=False)\n",
    "print(\"Fichier gounghin.csv créé avec succès !\")\n",
    "\n",
    "# 4.2 Lieux dont la première lettre est A à P\n",
    "a_to_p_df = df[df['location_name'].str[0].str.upper().between('A', 'P')]\n",
    "a_to_p_df.to_csv(\"A_to_P.csv\", index=False)\n",
    "print(\"Fichier A_to_P.csv créé avec succès !\")\n",
    "\n",
    "# 4.3 Latitude et longitude minimales\n",
    "min_lat = df['lat'].min()\n",
    "min_lat_names = df[df['lat'] == min_lat]['location_name'].values\n",
    "print(\"Latitude minimale :\", min_lat)\n",
    "print(\"Lieux correspondants :\", min_lat_names)\n",
    "\n",
    "min_long = df['long'].min()\n",
    "min_long_names = df[df['long'] == min_long]['location_name'].values\n",
    "print(\"Longitude minimale :\", min_long)\n",
    "print(\"Lieux correspondants :\", min_long_names)\n",
    "\n",
    "# 4.4 Coordonnées lat >= 11 et long <= 0.5\n",
    "subset_df = df[(df['lat'] >= 11) & (df['long'] <= 0.5)]\n",
    "subset_df.to_csv(\"Coord_lat11_long0.5.csv\", index=False)\n",
    "print(f\"Nombre de lieux correspondant aux critères : {subset_df.shape[0]}\")\n"
   ]
  },
  {
   "cell_type": "code",
   "execution_count": 25,
   "id": "99900e69-ef84-43ea-a882-2ddf2a517282",
   "metadata": {},
   "outputs": [],
   "source": [
    "# ======================================================\n",
    "# 5- Création du fichier Excel avec toutes les feuilles\n",
    "# ====================================================="
   ]
  },
  {
   "cell_type": "code",
   "execution_count": 26,
   "id": "e2a55124-5db8-48ab-8efe-8eb6d99c53af",
   "metadata": {},
   "outputs": [
    {
     "name": "stderr",
     "output_type": "stream",
     "text": [
      "\n",
      "[notice] A new release of pip is available: 25.0.1 -> 25.2\n",
      "[notice] To update, run: python.exe -m pip install --upgrade pip\n"
     ]
    },
    {
     "name": "stdout",
     "output_type": "stream",
     "text": [
      "Requirement already satisfied: XlsxWriter in c:\\users\\hp\\appdata\\local\\programs\\python\\python313\\lib\\site-packages (3.2.5)\n",
      "Requirement already satisfied: openpyxl in c:\\users\\hp\\appdata\\local\\programs\\python\\python313\\lib\\site-packages (3.1.5)\n",
      "Requirement already satisfied: et-xmlfile in c:\\users\\hp\\appdata\\local\\programs\\python\\python313\\lib\\site-packages (from openpyxl) (2.0.0)\n"
     ]
    }
   ],
   "source": [
    "# Installation de packages : \n",
    "!pip install XlsxWriter openpyxl"
   ]
  },
  {
   "cell_type": "code",
   "execution_count": 27,
   "id": "ea5def68-8b79-46cc-b07e-f87c7f491884",
   "metadata": {},
   "outputs": [
    {
     "name": "stdout",
     "output_type": "stream",
     "text": [
      "Fichier Excel 'mini_projet.xlsx' créé avec succès avec toutes les feuilles !\n"
     ]
    }
   ],
   "source": [
    "with pd.ExcelWriter(\"mini_projet.xlsx\", engine='xlsxwriter') as writer:\n",
    "    gounghin_df.to_excel(writer, sheet_name='gounghin', index=False)\n",
    "    a_to_p_df.to_excel(writer, sheet_name='A_to_P', index=False)\n",
    "\n",
    "print(\"Fichier Excel 'mini_projet.xlsx' créé avec succès avec toutes les feuilles !\")"
   ]
  },
  {
   "cell_type": "code",
   "execution_count": null,
   "id": "f1ce3bb8-e31c-4d87-9d1f-29dc3dad0929",
   "metadata": {},
   "outputs": [],
   "source": []
  }
 ],
 "metadata": {
  "kernelspec": {
   "display_name": "Python 3 (ipykernel)",
   "language": "python",
   "name": "python3"
  },
  "language_info": {
   "codemirror_mode": {
    "name": "ipython",
    "version": 3
   },
   "file_extension": ".py",
   "mimetype": "text/x-python",
   "name": "python",
   "nbconvert_exporter": "python",
   "pygments_lexer": "ipython3",
   "version": "3.13.3"
  }
 },
 "nbformat": 4,
 "nbformat_minor": 5
}
